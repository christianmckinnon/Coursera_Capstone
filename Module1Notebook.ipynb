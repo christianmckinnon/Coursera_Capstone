{
 "cells": [
  {
   "cell_type": "markdown",
   "id": "antique-baseline",
   "metadata": {},
   "source": [
    "# Notebook for the IBM Applied Data Science Capstone"
   ]
  },
  {
   "cell_type": "markdown",
   "id": "modified-heater",
   "metadata": {},
   "source": [
    "The following notebook will include markdown, import pandas and numpy, as well as print a  basic statement."
   ]
  },
  {
   "cell_type": "code",
   "execution_count": 10,
   "id": "abroad-accent",
   "metadata": {},
   "outputs": [],
   "source": [
    "# import pandas"
   ]
  },
  {
   "cell_type": "code",
   "execution_count": 11,
   "id": "static-class",
   "metadata": {},
   "outputs": [],
   "source": [
    "import pandas as pd"
   ]
  },
  {
   "cell_type": "code",
   "execution_count": 12,
   "id": "persistent-olive",
   "metadata": {},
   "outputs": [],
   "source": [
    "#import numpy"
   ]
  },
  {
   "cell_type": "code",
   "execution_count": 13,
   "id": "mounted-indonesia",
   "metadata": {},
   "outputs": [],
   "source": [
    "import numpy as np"
   ]
  },
  {
   "cell_type": "code",
   "execution_count": 14,
   "id": "transparent-mailman",
   "metadata": {},
   "outputs": [],
   "source": [
    "# print \"Hello Capstone Project Course!\""
   ]
  },
  {
   "cell_type": "code",
   "execution_count": 15,
   "id": "severe-worth",
   "metadata": {},
   "outputs": [
    {
     "name": "stdout",
     "output_type": "stream",
     "text": [
      "Hello Capstone Project Course!\n"
     ]
    }
   ],
   "source": [
    "print('Hello Capstone Project Course!')"
   ]
  }
 ],
 "metadata": {
  "kernelspec": {
   "display_name": "Python 3",
   "language": "python",
   "name": "python3"
  },
  "language_info": {
   "codemirror_mode": {
    "name": "ipython",
    "version": 3
   },
   "file_extension": ".py",
   "mimetype": "text/x-python",
   "name": "python",
   "nbconvert_exporter": "python",
   "pygments_lexer": "ipython3",
   "version": "3.8.3"
  }
 },
 "nbformat": 4,
 "nbformat_minor": 5
}
