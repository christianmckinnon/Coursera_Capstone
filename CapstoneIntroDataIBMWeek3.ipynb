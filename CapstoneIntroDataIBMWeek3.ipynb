{
 "cells": [
  {
   "cell_type": "markdown",
   "id": "ae055a2e-0b28-4f17-b4a8-bebf4ffe6e6e",
   "metadata": {
    "tags": []
   },
   "source": [
    "<h1 align=center><font size = 7>IBM Applied Data Science Capstone</font></h1>"
   ]
  },
  {
   "cell_type": "markdown",
   "id": "301f77af-69f3-402d-89b5-fa94e17aab58",
   "metadata": {
    "tags": []
   },
   "source": [
    "<h1 align=center><font size = 6>Where to Open LA's Next Artisanal Coffee Shop?</font></h1>"
   ]
  },
  {
   "cell_type": "markdown",
   "id": "c4558b7a-3109-474a-bac4-08d6bfb5b672",
   "metadata": {
    "tags": []
   },
   "source": [
    "<h1 align=center><font size = 5>Christian McKinnon</font></h1>"
   ]
  },
  {
   "cell_type": "markdown",
   "id": "0b91244d-9415-46a0-b1a2-5ab504248453",
   "metadata": {},
   "source": [
    "## Introduction / Executive Summary:"
   ]
  },
  {
   "cell_type": "markdown",
   "id": "9225f8f5-31e4-4725-992e-a3c7f2bee680",
   "metadata": {},
   "source": [
    "According to [Statista](https://www.statista.com/statistics/306896/cities-with-the-largest-number-of-starbucks-stores-us/), Los Angeles was ranked only 5th, in the US, in terms of having the largest number of Starbucks Coffeehouses, trailing cities like New York and Chicago. There are numerous possible explanations as to why, however the rise of the craft coffee movement is most certainly one of them. A growing awareness of concerns surrounding ESG (Environmental, Social and Corporate Governance), sustainability and sourcing has converted directly into consumers' daily purchasing habits.\n",
    "\n",
    "Artisanal Coffee shops like \"Upside Down\" in Westwood have taken these concerns into account by sourcing their coffee from global producers with sustainable and ethical production practices. Despite higher costs, consumer demand has remained remarkably resilient as many consumers feel sustainable sourcing justifies the expensive cost. \n",
    "\n",
    "LA has long been a trendsetter in terms of embracing fringe industries that since become mainstream, and artisanal coffee shops are no exception. Prospective entrepreneurs and investors alike are constantly scouring new opportunities to build profitable businesses in the right locations, but how exactly are these decisions made and what kind of data is used to inform these decisions?\n",
    "\n",
    "In this report, we will scrape publicly available real-world data, and perform any required tidying before integrating it with geocoding services and the FourSquare API. Our analysis will be driven by visualizations including barplots and heatmaps, as well as statistical metrics such as correlation and averages to better refine our understanding and make predictions. K-means clustering will then be applied to FourSquare venues in LA neighborhoods to determine where best to open LA's next artisanal coffee shop."
   ]
  },
  {
   "cell_type": "markdown",
   "id": "b89def9a-8ec0-4572-90e8-9468ee1cc7d6",
   "metadata": {},
   "source": [
    "## Data Sources:"
   ]
  },
  {
   "cell_type": "markdown",
   "id": "0b583e77-4969-42fc-94d3-491a0a5728d8",
   "metadata": {},
   "source": [
    "In the following report, we will analyze data from the following sources to determine where best to open Los Angeles's next craft coffee shop:\n",
    "\n",
    "1.) The [Foursquare API](https://developer.foursquare.com/) in order to locate and list different venues such as cafes, restaurants, shops and other services in order to better refine prospective neighborhoods.\n",
    "\n",
    "2.) The GeoPy Nominatim Libary in order to locate the coordinates of all venues and neighborhoods.\n",
    "\n",
    "3.) The Wikipedia Entry for the [List of districts and neighborhoods in Los Angeles](https://en.wikipedia.org/wiki/List_of_districts_and_neighborhoods_in_Los_Angeles).\n",
    "\n",
    "4.) Average Monthly Rental Data scraped from the rental platform [RENTCafe](https://www.rentcafe.com/average-rent-market-trends/us/ca/los-angeles/), a US-based rental listing service for landlords and tenants. It maintains up-to-date listings of apartments for rent as well as data to determine the average cost of certain districts and neighborhoods."
   ]
  }
 ],
 "metadata": {
  "kernelspec": {
   "display_name": "Python",
   "language": "python",
   "name": "conda-env-python-py"
  },
  "language_info": {
   "codemirror_mode": {
    "name": "ipython",
    "version": 3
   },
   "file_extension": ".py",
   "mimetype": "text/x-python",
   "name": "python",
   "nbconvert_exporter": "python",
   "pygments_lexer": "ipython3",
   "version": "3.6.13"
  }
 },
 "nbformat": 4,
 "nbformat_minor": 5
}
